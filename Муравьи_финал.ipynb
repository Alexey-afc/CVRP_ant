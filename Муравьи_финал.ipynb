{
 "cells": [
  {
   "cell_type": "code",
   "execution_count": 1,
   "id": "84d09ace",
   "metadata": {},
   "outputs": [],
   "source": [
    "import cvrplib\n",
    "import matplotlib.pyplot as plt\n",
    "import numpy as np\n",
    "import random\n",
    "import re\n",
    "import sys\n",
    "iters_limit = 50000\n",
    "iters_stagnation_limit = 3000"
   ]
  },
  {
   "cell_type": "code",
   "execution_count": 2,
   "id": "c09894d5",
   "metadata": {},
   "outputs": [],
   "source": [
    "# Download instances\n",
    "instance, solution = cvrplib.download('B-n31-k5', solution=True)\n"
   ]
  },
  {
   "cell_type": "code",
   "execution_count": 3,
   "id": "d301341c",
   "metadata": {},
   "outputs": [],
   "source": [
    "def data_preparation(number_points):\n",
    "    \n",
    "    most_consuming_edge = 0\n",
    "    for i in range(number_points):\n",
    "        for j in range(number_points):\n",
    "            if distance_matrix[i][j] > most_consuming_edge:\n",
    "                most_consuming_edge = distance_matrix[i][j]\n",
    "        \n",
    "\n",
    "    tay = ((number_points)*most_consuming_edge)**(-1)\n",
    "    return(tay)"
   ]
  },
  {
   "cell_type": "code",
   "execution_count": 4,
   "id": "57a4ee6c",
   "metadata": {},
   "outputs": [],
   "source": [
    "def super_way(route,minimal_route_cost):\n",
    "    colors =[\"green\",\"blue\",\"grey\",\"orange\",\"red\",\"pink\",\"cyan\",\"olive\",\"brown\",\"black\",\"Purple\",\"darkkhaki\",\"darkmagenta\",\"honeydew\",\"lightcoral\",\"lime\"]\n",
    "    fig, (ax1,ax2) = plt.subplots(1,2,figsize=(15,7))\n",
    "    fig.suptitle(instance.name)\n",
    "    for j in range(len(solution.routes)):\n",
    "        x=[instance.coordinates[0][0]]\n",
    "        y=[instance.coordinates[0][1]]\n",
    "        for i in solution.routes[j]:\n",
    "            x+=[instance.coordinates[i][0]]\n",
    "            y+=[instance.coordinates[i][1]]\n",
    "        x+=[instance.coordinates[0][0]]\n",
    "        y+=[instance.coordinates[0][1]]\n",
    "        ax1.plot(x,y)\n",
    "        ax1.set_title(f'Правильное решение\\nМашин:{instance.name[-1]} \\nСтоимость {solution.cost}')\n",
    "\n",
    "    ax1.scatter(*instance.coordinates[instance.depot],color = \"black\")\n",
    "    for i in instance.customers:\n",
    "        ax1.scatter(*instance.coordinates[i],color = \"black\")\n",
    "    def way(route,minimal_route_cost,ax):\n",
    "        o = -1\n",
    "        x = [instance.coordinates[0][0]]\n",
    "        y = [instance.coordinates[0][1]]\n",
    "        for i in route:\n",
    "            x += [instance.coordinates[i][0]]\n",
    "            y += [instance.coordinates[i][1]]\n",
    "            #print(x,y)\n",
    "            ax.plot(x,y,color=colors[o+1])\n",
    "            ax.scatter(x,y, color=\"blue\")\n",
    "            if i == instance.depot:\n",
    "                x = [instance.coordinates[i][0]]\n",
    "                y = [instance.coordinates[i][1]]\n",
    "                o+=1\n",
    "        ax.scatter(*instance.coordinates[instance.depot],color = \"black\")\n",
    "        ax.set_title(f'Мое решение\\nМашин: {o} \\nСтоимость {minimal_route_cost}')\n",
    "        return(ax,o)\n",
    "    ax2,o = way(route,minimal_route_cost,ax2)\n",
    "    f = open('123.txt', 'a')\n",
    "    f.write(instance.name+\" \")\n",
    "    f.write(instance.name[-1]+\" \")\n",
    "    f.write(str(solution.cost)+\" \")\n",
    "    f.write(str(o)+\" \")\n",
    "    f.write(str(minimal_route_cost)+\" \")\n",
    "    f.write('\\n')\n",
    "    f.close()\n",
    "    fig.show()\n",
    "    fig.savefig(instance.name)"
   ]
  },
  {
   "cell_type": "code",
   "execution_count": 5,
   "id": "d85432a8",
   "metadata": {},
   "outputs": [],
   "source": [
    "def pheromone_update(matrix,a,p,L):\n",
    "    for i in range(number_points-1):\n",
    "        for j in range((i+1),number_points):\n",
    "                matrix[i][j] = matrix[j][i] = matrix[i][j]*(1 - p)+p*tao\n",
    "    #for k in a:\n",
    "        #matrix[a[k]][a[k+1]] = matrix[a[k+1]][a[k]] = matrix[a[k]][a[k+1]]/(1 - p) + 1/L"
   ]
  },
  {
   "cell_type": "code",
   "execution_count": 6,
   "id": "715705b1",
   "metadata": {},
   "outputs": [],
   "source": [
    "def ant_alg(alpha, beta, qO,p,k1):\n",
    "    best_route = []\n",
    "    minimal_route_cost = 50000\n",
    "    iter = 1\n",
    "    stagnation_iter = 0\n",
    "    \n",
    "   \n",
    "    while (iter <= iters_limit) and (stagnation_iter <= iters_stagnation_limit):\n",
    "        #if (iter-1)%100 == 0:\n",
    "            #print(f'Итерация {iter} из {iters_limit}. Лучшая стоимость:{minimal_route_cost}')\n",
    "        for ant in range(50):\n",
    "            current_route = [0]\n",
    "            non_visited_points = list(range(1,number_points+1))\n",
    "            #print(non_visited_points)\n",
    "            #print(k1)\n",
    "            for z in range(1,len(k1)):\n",
    "                non_visited_points.remove(k1[z])\n",
    "            capacity_remains = capacity\n",
    "            avto=1\n",
    "            #print((non_visited_points))\n",
    "            while len(non_visited_points)>0:\n",
    "                current_point = current_route[-1]\n",
    "                feromon_values = np.array([ (pheromon_matrix[current_point][point]**(alpha))*((1/distance_matrix[current_point][point])**beta) for point in non_visited_points if (point not in current_route and distance_matrix[current_point][point]!=0)])\n",
    "                \n",
    "                if np.random.random_sample() < qO:\n",
    "                    next_point = non_visited_points[np.argmax(feromon_values)]\n",
    "                    \n",
    "                else:\n",
    "                    next_point = np.random.choice(non_visited_points, p=feromon_values/sum(feromon_values))\n",
    "\n",
    "                capacity_remains -= demand[next_point]\n",
    "                if capacity_remains < 0:\n",
    "                    current_route.append(0)\n",
    "                    capacity_remains = capacity\n",
    "                    avto+=1\n",
    "                else:\n",
    "                    non_visited_points.remove(next_point)\n",
    "                    current_route.append(next_point)\n",
    "                #print(non_visited_points)\n",
    "                    \n",
    "            current_route.append(0)\n",
    "            iter += 1\n",
    "            current_route_cost = 0\n",
    "            \n",
    "            for i in range(1, len(current_route)):\n",
    "                p1, p2 = current_route[i-1], current_route[i]\n",
    "                pheromon_matrix[p1][p2] = pheromon_matrix[p2][p1] = pheromon_matrix[p1][p2]*(1 - alpha) + alpha*tay\n",
    "                current_route_cost += distance_matrix[p1][p2]\n",
    "            \n",
    "            if current_route_cost < minimal_route_cost:\n",
    "                best_route = current_route.copy()\n",
    "                minimal_route_cost = current_route_cost\n",
    "                stagnation_iter += -1\n",
    "            else:\n",
    "                stagnation_iter += 1\n",
    "            \n",
    "              \n",
    "        \n",
    "        for i in range(1, len(best_route)):\n",
    "            p_1, p_2 = best_route[i-1], best_route[i]\n",
    "            pheromon_matrix[p_1][p_2] = pheromon_matrix[p_2][p_1] = pheromon_matrix[p_1][p_2]*(1-alpha) + 10*alpha/current_route_cost\n",
    "        \n",
    "        \n",
    "    print(iter)\n",
    "    print(stagnation_iter)\n",
    "    return(best_route, minimal_route_cost,avto)"
   ]
  },
  {
   "cell_type": "code",
   "execution_count": null,
   "id": "bea4a123",
   "metadata": {},
   "outputs": [
    {
     "name": "stdout",
     "output_type": "stream",
     "text": [
      "i= 7 j=  30 demand= 22    19\n",
      "posle demand= 41\n",
      "i= 13 j=  17 demand= 16    15\n",
      "posle demand= 31\n",
      "[0, 30, 17]\n"
     ]
    }
   ],
   "source": [
    "capacity,points,number_points,demand = instance.capacity,instance.customers,instance.n_customers,instance.demands\n",
    "k=[0]\n",
    "for i in range(1,len(points)+1):\n",
    "    for j in range(i+1,len(points)+1):\n",
    "        if (instance.distances[i][j]==0):\n",
    "            k.append(j)\n",
    "            print(\"i=\",i,\"j= \",j,\"demand=\",demand[i],\"  \",demand[j])\n",
    "            demand[i]=instance.demands[i]+instance.demands[j]\n",
    "            print(\"posle demand=\",demand[i])\n",
    "print(k)\n",
    "\n",
    "distance_matrix=tuple(instance.distances)\n",
    "tay = data_preparation(number_points)\n",
    "pheromon_matrix = tuple([tay for _ in range(number_points+1)] for _ in range(number_points+1))\n",
    "best_route, minimal_route_cost,avto = ant_alg(alpha=2, beta=3, qO=.4,p=.6,k1=k)"
   ]
  },
  {
   "cell_type": "code",
   "execution_count": 1,
   "id": "3f4f6a3c",
   "metadata": {},
   "outputs": [
    {
     "ename": "NameError",
     "evalue": "name 'super_way' is not defined",
     "output_type": "error",
     "traceback": [
      "\u001b[1;31m---------------------------------------------------------------------------\u001b[0m",
      "\u001b[1;31mNameError\u001b[0m                                 Traceback (most recent call last)",
      "\u001b[1;32m~\\AppData\\Local\\Temp\\ipykernel_16848\\2608398010.py\u001b[0m in \u001b[0;36m<module>\u001b[1;34m\u001b[0m\n\u001b[1;32m----> 1\u001b[1;33m \u001b[0msuper_way\u001b[0m\u001b[1;33m(\u001b[0m\u001b[0mbest_route\u001b[0m\u001b[1;33m,\u001b[0m\u001b[0mminimal_route_cost\u001b[0m \u001b[1;33m)\u001b[0m\u001b[1;33m\u001b[0m\u001b[1;33m\u001b[0m\u001b[0m\n\u001b[0m",
      "\u001b[1;31mNameError\u001b[0m: name 'super_way' is not defined"
     ]
    }
   ],
   "source": [
    "super_way(best_route,minimal_route_cost )\n"
   ]
  },
  {
   "cell_type": "code",
   "execution_count": null,
   "id": "215f9486",
   "metadata": {},
   "outputs": [],
   "source": []
  },
  {
   "cell_type": "code",
   "execution_count": null,
   "id": "82200ea6",
   "metadata": {},
   "outputs": [],
   "source": []
  }
 ],
 "metadata": {
  "kernelspec": {
   "display_name": "Python 3 (ipykernel)",
   "language": "python",
   "name": "python3"
  },
  "language_info": {
   "codemirror_mode": {
    "name": "ipython",
    "version": 3
   },
   "file_extension": ".py",
   "mimetype": "text/x-python",
   "name": "python",
   "nbconvert_exporter": "python",
   "pygments_lexer": "ipython3",
   "version": "3.9.13"
  }
 },
 "nbformat": 4,
 "nbformat_minor": 5
}
